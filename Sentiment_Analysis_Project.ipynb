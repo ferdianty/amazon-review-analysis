{
  "cells": [
    {
      "cell_type": "markdown",
      "id": "ff8dd0b2",
      "metadata": {
        "id": "ff8dd0b2"
      },
      "source": [
        "# Sentiment Classification and Summarization of Amazon Product Reviews\n",
        "### using IBM Granite Models (simulated with Transformers)"
      ]
    },
    {
      "cell_type": "code",
      "execution_count": null,
      "id": "5475f6e8",
      "metadata": {
        "id": "5475f6e8"
      },
      "outputs": [],
      "source": [
        "# Step 1: Install & Import Libraries\n",
        "!pip install pandas matplotlib scikit-learn transformers\n",
        "\n",
        "# Import libraries\n",
        "import pandas as pd\n",
        "import matplotlib.pyplot as plt\n",
        "from sklearn.model_selection import train_test_split\n",
        "from sklearn.metrics import classification_report\n",
        "from transformers import pipeline\n"
      ]
    },
    {
      "cell_type": "code",
      "execution_count": null,
      "id": "14120a12",
      "metadata": {
        "id": "14120a12"
      },
      "outputs": [],
      "source": [
        "# Step 2: Load Dataset\n",
        "df = pd.read_csv('Reviews.csv')\n",
        "df = df.sample(1000, random_state=42).reset_index(drop=True)\n",
        "df = df[['Text']]  # hanya ambil kolom review text\n",
        "df.head()\n"
      ]
    },
    {
      "cell_type": "code",
      "execution_count": null,
      "id": "d40058d8",
      "metadata": {
        "id": "d40058d8"
      },
      "outputs": [],
      "source": [
        "# 🟩 Step 3: Sentiment Classification\n",
        "classifier = pipeline(\"sentiment-analysis\")\n",
        "\n",
        "def classify_sentiment(text):\n",
        "    result = classifier(text[:512])[0]\n",
        "    label = result['label']\n",
        "    if 'POS' in label:\n",
        "        return 'Positive'\n",
        "    elif 'NEG' in label:\n",
        "        return 'Negative'\n",
        "    else:\n",
        "        return 'Neutral'\n",
        "\n",
        "df['Sentiment'] = df['Text'].apply(classify_sentiment)\n",
        "df.head()\n"
      ]
    },
    {
      "cell_type": "code",
      "execution_count": null,
      "id": "06219770",
      "metadata": {
        "id": "06219770"
      },
      "outputs": [],
      "source": [
        "# 🟩 Step 4: Summarization\n",
        "summarizer = pipeline(\"summarization\")\n",
        "\n",
        "def summarize_text(text):\n",
        "    summary = summarizer(text[:512], max_length=30, min_length=10, do_sample=False)[0]['summary_text']\n",
        "    return summary\n",
        "\n",
        "df['Summary'] = df['Text'].apply(summarize_text)\n",
        "df.head()\n"
      ]
    },
    {
      "cell_type": "code",
      "execution_count": null,
      "id": "8591075b",
      "metadata": {
        "id": "8591075b"
      },
      "outputs": [],
      "source": [
        "# 🟩 Step 5: Visualize Sentiment Distribution\n",
        "df['Sentiment'].value_counts().plot(kind='pie', autopct='%1.1f%%', title='Sentiment Distribution')\n",
        "plt.show()\n",
        "\n",
        "print(df['Sentiment'].value_counts())\n"
      ]
    }
  ],
  "metadata": {
    "colab": {
      "provenance": []
    }
  },
  "nbformat": 4,
  "nbformat_minor": 5
}